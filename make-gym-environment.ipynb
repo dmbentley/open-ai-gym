{
 "cells": [
  {
   "cell_type": "markdown",
   "metadata": {},
   "source": [
    "# OpenAI Gym"
   ]
  },
  {
   "cell_type": "markdown",
   "metadata": {},
   "source": [
    "This repository demonstrates a working OpenAI Gym environment in a Jupyter Notebook. It can be used as a starting point to use reinforcement algorithms to train the agent to learn. \n",
    "\n",
    "OpenAI Gym's repository can be found <a href='https://github.com/openai/gym'>here</a> with its extensive documentation, including installation instructions, found <a href='https://gym.openai.com/docs/'>here</a>.\n",
    "\n",
    "First the `gym` library needs to be imported."
   ]
  },
  {
   "cell_type": "code",
   "execution_count": 1,
   "metadata": {
    "scrolled": false
   },
   "outputs": [],
   "source": [
    "import gym"
   ]
  },
  {
   "cell_type": "markdown",
   "metadata": {},
   "source": [
    "A gym environment called `env` can be created that simulates a car on a mountain. "
   ]
  },
  {
   "cell_type": "code",
   "execution_count": 2,
   "metadata": {},
   "outputs": [],
   "source": [
    "env = gym.make('MountainCar-v0')"
   ]
  },
  {
   "cell_type": "markdown",
   "metadata": {},
   "source": [
    "The environment first needs to be reset to become active. "
   ]
  },
  {
   "cell_type": "code",
   "execution_count": 3,
   "metadata": {},
   "outputs": [
    {
     "name": "stdout",
     "output_type": "stream",
     "text": [
      "The car is at X position -0.41194042991768265 and Y position 0.0 after being reset.\n"
     ]
    }
   ],
   "source": [
    "observation = env.reset()\n",
    "print('The car is at X position {} and Y position {} after being reset.'.format(observation[0], observation[1]))"
   ]
  },
  {
   "cell_type": "markdown",
   "metadata": {},
   "source": [
    "The environment can be now be displayed."
   ]
  },
  {
   "cell_type": "code",
   "execution_count": 4,
   "metadata": {},
   "outputs": [
    {
     "data": {
      "text/plain": [
       "True"
      ]
     },
     "execution_count": 4,
     "metadata": {},
     "output_type": "execute_result"
    }
   ],
   "source": [
    "env.render()"
   ]
  },
  {
   "cell_type": "markdown",
   "metadata": {},
   "source": [
    "The state of the car is given by two coordinates. This can also be determined by executing the following command."
   ]
  },
  {
   "cell_type": "code",
   "execution_count": 5,
   "metadata": {},
   "outputs": [
    {
     "data": {
      "text/plain": [
       "Box(2,)"
      ]
     },
     "execution_count": 5,
     "metadata": {},
     "output_type": "execute_result"
    }
   ],
   "source": [
    "env.observation_space"
   ]
  },
  {
   "cell_type": "markdown",
   "metadata": {},
   "source": [
    "Both the upper and lower boundaries of the observation space can be determined by:"
   ]
  },
  {
   "cell_type": "code",
   "execution_count": 6,
   "metadata": {},
   "outputs": [
    {
     "name": "stdout",
     "output_type": "stream",
     "text": [
      "The upper boundary of the observation space is [0.6  0.07]\n",
      "The lower boundary of the observation space is [-1.2  -0.07]\n"
     ]
    }
   ],
   "source": [
    "print('The upper boundary of the observation space is {}'.format(env.observation_space.high))\n",
    "print('The lower boundary of the observation space is {}'.format(env.observation_space.low))"
   ]
  },
  {
   "cell_type": "markdown",
   "metadata": {},
   "source": [
    "A list of the actions that the car can make can be determined by:"
   ]
  },
  {
   "cell_type": "code",
   "execution_count": 7,
   "metadata": {},
   "outputs": [
    {
     "data": {
      "text/plain": [
       "Discrete(3)"
      ]
     },
     "execution_count": 7,
     "metadata": {},
     "output_type": "execute_result"
    }
   ],
   "source": [
    "env.action_space"
   ]
  },
  {
   "cell_type": "markdown",
   "metadata": {},
   "source": [
    "This shows that there are three discrete actions that the car can make. The car can perform an action by using the `step` class method. For example, `env.step(0)` will propel the car in the left direction. The class method `step` will return four things: `observation, reward, done, info`. In order to visually see the action taken, the `render` class method needs to be called.\n",
    "A simple example that shows the car always choosing action 0 is shown below:"
   ]
  },
  {
   "cell_type": "code",
   "execution_count": 8,
   "metadata": {},
   "outputs": [],
   "source": [
    "env.reset()\n",
    "\n",
    "done = False\n",
    "\n",
    "while done is False:\n",
    "    \n",
    "    observation, reward, done, info = env.step(0)\n",
    "    env.render()"
   ]
  },
  {
   "cell_type": "markdown",
   "metadata": {},
   "source": [
    "As can be seen, `env.step.(0)` moves the car to the left. The car can also exectute an action at random. The code below shows the car doing exactly this."
   ]
  },
  {
   "cell_type": "code",
   "execution_count": 9,
   "metadata": {},
   "outputs": [],
   "source": [
    "env.reset()\n",
    "\n",
    "done = False\n",
    "\n",
    "while done is False:\n",
    "    \n",
    "    observation, reward, done, info = env.step(env.action_space.sample())\n",
    "    env.render()"
   ]
  },
  {
   "cell_type": "markdown",
   "metadata": {},
   "source": [
    "In order to close the environment that was created, the following command needs to be executed:    "
   ]
  },
  {
   "cell_type": "code",
   "execution_count": 10,
   "metadata": {},
   "outputs": [],
   "source": [
    "env.close()"
   ]
  },
  {
   "cell_type": "markdown",
   "metadata": {},
   "source": [
    "## Conclusion\n"
   ]
  },
  {
   "cell_type": "markdown",
   "metadata": {},
   "source": [
    "As is seen in this notebook, OpenAI's Gym allows a user to create a toy environment that allows an object to be controlled. In this notebook, the Mountain Cart environment was used. The car could be controlled by three actions that change the state of the car. This setup allows a user to write a reinforcement algorithm that would allow the car to surmount the mountain. "
   ]
  }
 ],
 "metadata": {
  "kernelspec": {
   "display_name": "Python 3",
   "language": "python",
   "name": "python3"
  },
  "language_info": {
   "codemirror_mode": {
    "name": "ipython",
    "version": 3
   },
   "file_extension": ".py",
   "mimetype": "text/x-python",
   "name": "python",
   "nbconvert_exporter": "python",
   "pygments_lexer": "ipython3",
   "version": "3.7.1"
  }
 },
 "nbformat": 4,
 "nbformat_minor": 2
}
